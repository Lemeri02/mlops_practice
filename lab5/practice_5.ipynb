{
 "cells": [
  {
   "cell_type": "code",
   "execution_count": 8,
   "metadata": {},
   "outputs": [],
   "source": [
    "import matplotlib.pyplot as plt\n",
    "import numpy as np\n",
    "from sklearn.linear_model import LinearRegression\n",
    "import pickle"
   ]
  },
  {
   "cell_type": "code",
   "execution_count": 9,
   "metadata": {},
   "outputs": [],
   "source": [
    "train_x = np.linspace(0, 5, 100)\n",
    "train_y = train_x + np.random.random(100)*2-1"
   ]
  },
  {
   "cell_type": "code",
   "execution_count": 10,
   "metadata": {},
   "outputs": [
    {
     "data": {
      "image/png": "[encoded data removed]",
      "text/plain": [
       "<Figure size 640x480 with 1 Axes>"
      ]
     },
     "metadata": {},
     "output_type": "display_data"
    }
   ],
   "source": [
    "plt.scatter(train_x, train_y)\n",
    "plt.show()"
   ]
  },
  {
   "cell_type": "code",
   "execution_count": 11,
   "metadata": {},
   "outputs": [
    {
     "data": {
      "text/plain": [
       "0.8730097512141526"
      ]
     },
     "execution_count": 11,
     "metadata": {},
     "output_type": "execute_result"
    }
   ],
   "source": [
    "train_x = train_x.reshape(-1,1)\n",
    "train_y = train_y.reshape(-1,1)\n",
    "reg = LinearRegression().fit(train_x, train_y)\n",
    "reg.score(train_x, train_y)"
   ]
  },
  {
   "cell_type": "code",
   "execution_count": 12,
   "metadata": {},
   "outputs": [],
   "source": [
    "filename = 'model.sav'\n",
    "pickle.dump(reg, open(filename, 'wb'))"
   ]
  },
  {
   "cell_type": "code",
   "execution_count": 13,
   "metadata": {},
   "outputs": [
    {
     "name": "stdout",
     "output_type": "stream",
     "text": [
      "Overwriting test.py\n"
     ]
    }
   ],
   "source": [
    "%%writefile test.py\n",
    "import pickle\n",
    "import numpy as np\n",
    "from sklearn.linear_model import LinearRegression\n",
    "\n",
    "# Загрузка обученной модели\n",
    "filename = 'model.sav'\n",
    "model = pickle.load(open(filename, 'rb'))\n",
    "\n",
    "# Первый тестовый набор данных\n",
    "def test_one():\n",
    "  test_x_1 = np.linspace(0, 15, 100)\n",
    "  test_y_1 = test_x_1 + np.random.random(100)*3-2\n",
    "  test_x_1 = test_x_1.reshape(-1,1)\n",
    "  test_y_1 = test_y_1.reshape(-1,1)\n",
    "  assert model.score(test_x_1, test_y_1) > 0.5, \"Низкий уровень предсказания!\"\n",
    "\n",
    "# Второй тестовый набор данных\n",
    "def test_two():\n",
    "  test_x_2 = np.linspace(0, 10, 100)\n",
    "  test_y_2 = test_x_2 + np.random.random(100)*4-3\n",
    "  test_x_2 = test_x_2.reshape(-1,1)\n",
    "  test_y_2 = test_y_2.reshape(-1,1)\n",
    "  assert model.score(test_x_2, test_y_2) > 0.5, \"Низкий уровень предсказания!\"\n",
    "\n",
    "# Шумовой набор данных\n",
    "def test_with_noise():\n",
    "  noise_data_x = np.linspace(0, 15, 100)\n",
    "  noise_data_y = noise_data_x + np.random.random(100)*3-1\n",
    "  noise_data_y[25:45] *= -2\n",
    "  noise_data_x = noise_data_x.reshape(-1,1)\n",
    "  noise_data_y = noise_data_y.reshape(-1,1)\n",
    "  assert model.score(noise_data_x, noise_data_y) > 0.5, \"Низкий уровень предсказания!\""
   ]
  },
  {
   "cell_type": "code",
   "execution_count": 14,
   "metadata": {},
   "outputs": [
    {
     "name": "stdout",
     "output_type": "stream",
     "text": [
      "\u001b[1m============================= test session starts ==============================\u001b[0m\n",
      "platform linux -- Python 3.12.1, pytest-7.3.2, pluggy-1.3.0\n",
      "rootdir: /home/iir/pets/urfu_projects/mlops_practice/lab5\n",
      "plugins: hydra-core-1.3.2\n",
      "collected 3 items                                                              \u001b[0m\u001b[1m\n",
      "\n",
      "test.py \u001b[32m.\u001b[0m\u001b[32m.\u001b[0m\u001b[31mF\u001b[0m\u001b[31m                                                              [100%]\u001b[0m\n",
      "\n",
      "=================================== FAILURES ===================================\n",
      "\u001b[31m\u001b[1m_______________________________ test_with_noise ________________________________\u001b[0m\n",
      "\n",
      "    \u001b[94mdef\u001b[39;49;00m \u001b[92mtest_with_noise\u001b[39;49;00m():\u001b[90m\u001b[39;49;00m\n",
      "      noise_data_x = np.linspace(\u001b[94m0\u001b[39;49;00m, \u001b[94m15\u001b[39;49;00m, \u001b[94m100\u001b[39;49;00m)\u001b[90m\u001b[39;49;00m\n",
      "      noise_data_y = noise_data_x + np.random.random(\u001b[94m100\u001b[39;49;00m)*\u001b[94m3\u001b[39;49;00m-\u001b[94m1\u001b[39;49;00m\u001b[90m\u001b[39;49;00m\n",
      "      noise_data_y[\u001b[94m25\u001b[39;49;00m:\u001b[94m45\u001b[39;49;00m] *= -\u001b[94m2\u001b[39;49;00m\u001b[90m\u001b[39;49;00m\n",
      "      noise_data_x = noise_data_x.reshape(-\u001b[94m1\u001b[39;49;00m,\u001b[94m1\u001b[39;49;00m)\u001b[90m\u001b[39;49;00m\n",
      "      noise_data_y = noise_data_y.reshape(-\u001b[94m1\u001b[39;49;00m,\u001b[94m1\u001b[39;49;00m)\u001b[90m\u001b[39;49;00m\n",
      ">     \u001b[94massert\u001b[39;49;00m model.score(noise_data_x, noise_data_y) > \u001b[94m0.5\u001b[39;49;00m, \u001b[33m\"\u001b[39;49;00m\u001b[33mНизкий уровень предсказания!\u001b[39;49;00m\u001b[33m\"\u001b[39;49;00m\u001b[90m\u001b[39;49;00m\n",
      "\u001b[1m\u001b[31mE     AssertionError: Низкий уровень предсказания!\u001b[0m\n",
      "\u001b[1m\u001b[31mE     assert 0.30570424880616853 > 0.5\u001b[0m\n",
      "\u001b[1m\u001b[31mE      +  where 0.30570424880616853 = <bound method RegressorMixin.score of LinearRegression()>(array([[ 0.        ],\\n       [ 0.15151515],\\n       [ 0.3030303 ],\\n       [ 0.45454545],\\n       [ 0.60606061],\\n       [...242424],\\n       [14.39393939],\\n       [14.54545455],\\n       [14.6969697 ],\\n       [14.84848485],\\n       [15.        ]]), array([[  0.8213841 ],\\n       [  0.92059562],\\n       [  0.83738448],\\n       [  0.41099928],\\n       [ -0.38373071],\\n   ...9],\\n       [ 13.73822803],\\n       [ 13.96568615],\\n       [ 14.71238039],\\n       [ 16.05985423],\\n       [ 14.00721219]]))\u001b[0m\n",
      "\u001b[1m\u001b[31mE      +    where <bound method RegressorMixin.score of LinearRegression()> = LinearRegression().score\u001b[0m\n",
      "\n",
      "\u001b[1m\u001b[31mtest.py\u001b[0m:32: AssertionError\n",
      "\u001b[36m\u001b[1m=========================== short test summary info ============================\u001b[0m\n",
      "\u001b[31mFAILED\u001b[0m test.py::\u001b[1mtest_with_noise\u001b[0m - AssertionError: Низкий уровень предсказания!\n",
      "\u001b[31m========================= \u001b[31m\u001b[1m1 failed\u001b[0m, \u001b[32m2 passed\u001b[0m\u001b[31m in 2.75s\u001b[0m\u001b[31m ==========================\u001b[0m\n"
     ]
    }
   ],
   "source": [
    "!pytest test.py"
   ]
  }
 ],
 "metadata": {
  "kernelspec": {
   "display_name": "Python 3",
   "language": "python",
   "name": "python3"
  },
  "language_info": {
   "codemirror_mode": {
    "name": "ipython",
    "version": 3
   },
   "file_extension": ".py",
   "mimetype": "text/x-python",
   "name": "python",
   "nbconvert_exporter": "python",
   "pygments_lexer": "ipython3",
   "version": "3.12.1"
  },
  "orig_nbformat": 4,
  "vscode": {
   "interpreter": {
    "hash": "e7370f93d1d0cde622a1f8e1c04877d8463912d04d973331ad4851f04de6915a"
   }
  }
 },
 "nbformat": 4,
 "nbformat_minor": 2
}
